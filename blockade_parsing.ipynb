{
 "cells": [
  {
   "cell_type": "markdown",
   "metadata": {},
   "source": [
    "### **В этом блокноте мы конвертируем записи из списков блокадников (простой текст) в табличку, извлекая из них информацию регулярками и костылями.**"
   ]
  },
  {
   "cell_type": "code",
   "execution_count": 3,
   "metadata": {},
   "outputs": [],
   "source": [
    "import os\n",
    "import re\n",
    "from bs4 import BeautifulSoup as beat_soup\n",
    "import pandas as pd\n",
    "from tqdm import tqdm"
   ]
  },
  {
   "cell_type": "code",
   "execution_count": 4,
   "metadata": {},
   "outputs": [],
   "source": [
    "PATH_TO_HTMLS = \"./blockade_base_new1/\" # путь к папке с хтмлками\n",
    "DEATH_DATE = r\"смерти: [1,2]?[0-9]? ?\\w{3,10} 19[0-9]{2}\" # смертельная регулярка"
   ]
  },
  {
   "cell_type": "markdown",
   "metadata": {},
   "source": [
    "Достаём пути ко всем хтмлкам."
   ]
  },
  {
   "cell_type": "code",
   "execution_count": 5,
   "metadata": {},
   "outputs": [],
   "source": [
    "htmls = []\n",
    "\n",
    "for _, dirs, files in os.walk(PATH_TO_HTMLS):\n",
    "    for file in files:\n",
    "        htmls.append(PATH_TO_HTMLS + file)  "
   ]
  },
  {
   "cell_type": "markdown",
   "metadata": {},
   "source": [
    "Готовим функции для извлечения текста из хтмл и извлечения информации из собственно текста."
   ]
  },
  {
   "cell_type": "code",
   "execution_count": 7,
   "metadata": {},
   "outputs": [],
   "source": [
    "def get_text(html_path: str) -> str:\n",
    "    \"\"\" достаем текстовую статью с хтмл-странички \"\"\"\n",
    "    with open(html_path, \"r\") as f:    \n",
    "        contents = f.read() \n",
    "        soup = beat_soup(contents, 'lxml')\n",
    "        \n",
    "    # странички сделаны странно и теги у них не всегда одинаковы - пробуем оба варианта\n",
    "    if soup.find(\"div\", class_ = \"col-sm-12\"):\n",
    "        return soup.find(\"div\", class_ = \"col-sm-12\").text.strip().replace(\"\\n\", \"\")\n",
    "    return soup.find(\"div\", class_ = \"col-sm-9\").text.strip().replace(\"\\n\", \"\")"
   ]
  },
  {
   "cell_type": "code",
   "execution_count": 8,
   "metadata": {},
   "outputs": [],
   "source": [
    "def get_person_info(text: str) -> dict:\n",
    "    \"\"\" создаем словарь с информацией о человеке \"\"\"\n",
    "    person = text \n",
    "    info = {\"fio\": \"no_info\", \"birth_date\": \"no_info\",\n",
    "            \"address\": \"no_info\", \"death_date\": \"no_info\", \"burial_place\": \"no_info\",\n",
    "            \"source\": \"no_info\"}\n",
    "    \n",
    "    fio = person.split(\",\")[0] # чаще всего отделено запятой, но иногда нет... :\n",
    "    if \"Место\" in fio:\n",
    "        fio = fio.split(\"Место\")[0].strip()\n",
    "    if \"Дата\" in fio:\n",
    "        fio = fio.split(\"Дата\")[0].strip() \n",
    "    \n",
    "    try:\n",
    "        birth_date = re.findall(r\"[0-3]?[0-9]?.?[0-1]?[0-9]?.?1[8-9][0-9]{2}\", \n",
    "                                person.split(\"г.р.\")[0].split(\"род\")[1])[0].strip(\"., \")  \n",
    "        # (да. выше было что-то уродливое. но оно... типа... работает)\n",
    "    except:\n",
    "        birth_date = \"no_info\" # иногда даты рождения не бывает\n",
    "        \n",
    "    info[\"fio\"], info[\"birth_date\"] = fio, birth_date\n",
    "    \n",
    "    # дергаем место проживания, если есть\n",
    "    if \"Место проживания\" in person:  \n",
    "        addr = person.split(\"Место проживания: \")[1] \n",
    "        if \"Дата смерти\" in person:\n",
    "            address = addr.split(\"Дата\")[0].strip(\". \")\n",
    "        else:\n",
    "            address = addr.split(\"(\")[0].strip(\". \")\n",
    "            info[\"address\"] = address\n",
    "     \n",
    "    # дергаем всякое про смерть, если есть (чаще нет)\n",
    "    if \"Дата смерти\" in person: \n",
    "        if re.findall(DEATH_DATE, person):\n",
    "            death_date = re.findall(DEATH_DATE, person)[0].replace(\"смерти: \", \"\")\n",
    "            info[\"death_date\"] = death_date \n",
    "            \n",
    "    if \"Место захоронения\" in person:\n",
    "        burial_place = person.split(\"Место захоронения: \")[-1].split(\"(\")[0]\n",
    "        info[\"burial_place\"] = burial_place\n",
    "    \n",
    "    # источник достается не всегда -- иногда на страничке он просто в другом блоке\n",
    "    # это надо дописать\n",
    "    if \"(\" in person:\n",
    "        source = person.split(\"(\")[-1].strip(\") \")\n",
    "        info[\"source\"] = source\n",
    "    \n",
    "    return info"
   ]
  },
  {
   "cell_type": "markdown",
   "metadata": {},
   "source": [
    "Обходим все хтмлки и собираем информацию для каждой из них + добавляем айдишники."
   ]
  },
  {
   "cell_type": "code",
   "execution_count": 9,
   "metadata": {
    "scrolled": true
   },
   "outputs": [
    {
     "name": "stderr",
     "output_type": "stream",
     "text": [
      "  3%|▎         | 1116/35186 [00:08<05:03, 112.29it/s]"
     ]
    },
    {
     "name": "stdout",
     "output_type": "stream",
     "text": [
      "./blockade_base_new1/1806053.html\n"
     ]
    },
    {
     "name": "stderr",
     "output_type": "stream",
     "text": [
      "  4%|▎         | 1305/35186 [00:09<04:08, 136.15it/s]"
     ]
    },
    {
     "name": "stdout",
     "output_type": "stream",
     "text": [
      "./blockade_base_new1/1661713.html\n"
     ]
    },
    {
     "name": "stderr",
     "output_type": "stream",
     "text": [
      " 10%|█         | 3635/35186 [00:27<04:16, 123.24it/s]"
     ]
    },
    {
     "name": "stdout",
     "output_type": "stream",
     "text": [
      "./blockade_base_new1/1679855.html\n"
     ]
    },
    {
     "name": "stderr",
     "output_type": "stream",
     "text": [
      " 11%|█         | 3916/35186 [00:29<04:27, 116.95it/s]"
     ]
    },
    {
     "name": "stdout",
     "output_type": "stream",
     "text": [
      "./blockade_base_new1/1972126.html\n"
     ]
    },
    {
     "name": "stderr",
     "output_type": "stream",
     "text": [
      " 11%|█         | 3952/35186 [00:30<04:52, 106.66it/s]"
     ]
    },
    {
     "name": "stdout",
     "output_type": "stream",
     "text": [
      "./blockade_base_new1/1911581.html\n"
     ]
    },
    {
     "name": "stderr",
     "output_type": "stream",
     "text": [
      " 12%|█▏        | 4259/35186 [00:32<04:10, 123.56it/s]"
     ]
    },
    {
     "name": "stdout",
     "output_type": "stream",
     "text": [
      "./blockade_base_new1/1972171.html\n"
     ]
    },
    {
     "name": "stderr",
     "output_type": "stream",
     "text": [
      " 12%|█▏        | 4371/35186 [00:33<03:49, 134.36it/s]"
     ]
    },
    {
     "name": "stdout",
     "output_type": "stream",
     "text": [
      "./blockade_base_new1/1972178.html\n"
     ]
    },
    {
     "name": "stderr",
     "output_type": "stream",
     "text": [
      " 13%|█▎        | 4527/35186 [00:34<04:19, 118.09it/s]"
     ]
    },
    {
     "name": "stdout",
     "output_type": "stream",
     "text": [
      "./blockade_base_new1/1972136.html\n"
     ]
    },
    {
     "name": "stderr",
     "output_type": "stream",
     "text": [
      " 14%|█▍        | 4898/35186 [00:37<04:48, 104.96it/s]"
     ]
    },
    {
     "name": "stdout",
     "output_type": "stream",
     "text": [
      "./blockade_base_new1/1121199.html\n",
      "./blockade_base_new1/1691021.html\n"
     ]
    },
    {
     "name": "stderr",
     "output_type": "stream",
     "text": [
      " 15%|█▍        | 5141/35186 [00:40<04:35, 109.00it/s]"
     ]
    },
    {
     "name": "stdout",
     "output_type": "stream",
     "text": [
      "./blockade_base_new1/1972180.html\n"
     ]
    },
    {
     "name": "stderr",
     "output_type": "stream",
     "text": [
      " 23%|██▎       | 8074/35186 [01:04<04:18, 104.86it/s]"
     ]
    },
    {
     "name": "stdout",
     "output_type": "stream",
     "text": [
      "./blockade_base_new1/blockade_parser.py\n"
     ]
    },
    {
     "name": "stderr",
     "output_type": "stream",
     "text": [
      " 27%|██▋       | 9445/35186 [01:19<03:04, 139.52it/s]"
     ]
    },
    {
     "name": "stdout",
     "output_type": "stream",
     "text": [
      "./blockade_base_new1/1939087.html\n"
     ]
    },
    {
     "name": "stderr",
     "output_type": "stream",
     "text": [
      " 32%|███▏      | 11206/35186 [01:37<02:53, 138.02it/s]"
     ]
    },
    {
     "name": "stdout",
     "output_type": "stream",
     "text": [
      "./blockade_base_new1/1370035.html\n"
     ]
    },
    {
     "name": "stderr",
     "output_type": "stream",
     "text": [
      " 37%|███▋      | 12970/35186 [01:54<03:45, 98.34it/s] "
     ]
    },
    {
     "name": "stdout",
     "output_type": "stream",
     "text": [
      "./blockade_base_new1/1972129.html\n"
     ]
    },
    {
     "name": "stderr",
     "output_type": "stream",
     "text": [
      " 46%|████▌     | 16244/35186 [02:24<02:00, 157.12it/s]"
     ]
    },
    {
     "name": "stdout",
     "output_type": "stream",
     "text": [
      "./blockade_base_new1/1972155.html\n"
     ]
    },
    {
     "name": "stderr",
     "output_type": "stream",
     "text": [
      " 52%|█████▏    | 18208/35186 [02:42<02:21, 120.09it/s]"
     ]
    },
    {
     "name": "stdout",
     "output_type": "stream",
     "text": [
      "./blockade_base_new1/1972097.html\n"
     ]
    },
    {
     "name": "stderr",
     "output_type": "stream",
     "text": [
      " 52%|█████▏    | 18277/35186 [02:43<03:10, 88.54it/s] "
     ]
    },
    {
     "name": "stdout",
     "output_type": "stream",
     "text": [
      "./blockade_base_new1/1972139.html\n"
     ]
    },
    {
     "name": "stderr",
     "output_type": "stream",
     "text": [
      " 60%|█████▉    | 21051/35186 [03:07<01:48, 129.74it/s]"
     ]
    },
    {
     "name": "stdout",
     "output_type": "stream",
     "text": [
      "./blockade_base_new1/1790747.html\n"
     ]
    },
    {
     "name": "stderr",
     "output_type": "stream",
     "text": [
      " 64%|██████▍   | 22569/35186 [03:23<02:01, 103.61it/s]"
     ]
    },
    {
     "name": "stdout",
     "output_type": "stream",
     "text": [
      "./blockade_base_new1/1972132.html\n"
     ]
    },
    {
     "name": "stderr",
     "output_type": "stream",
     "text": [
      " 65%|██████▍   | 22832/35186 [03:26<02:41, 76.48it/s] "
     ]
    },
    {
     "name": "stdout",
     "output_type": "stream",
     "text": [
      "./blockade_base_new1/1962924.html\n"
     ]
    },
    {
     "name": "stderr",
     "output_type": "stream",
     "text": [
      " 65%|██████▌   | 23014/35186 [03:28<02:28, 82.06it/s]"
     ]
    },
    {
     "name": "stdout",
     "output_type": "stream",
     "text": [
      "./blockade_base_new1/1558190.html\n"
     ]
    },
    {
     "name": "stderr",
     "output_type": "stream",
     "text": [
      " 67%|██████▋   | 23495/35186 [03:35<02:27, 79.49it/s]"
     ]
    },
    {
     "name": "stdout",
     "output_type": "stream",
     "text": [
      "./blockade_base_new1/1108364.html\n"
     ]
    },
    {
     "name": "stderr",
     "output_type": "stream",
     "text": [
      " 67%|██████▋   | 23574/35186 [03:36<02:53, 67.01it/s]"
     ]
    },
    {
     "name": "stdout",
     "output_type": "stream",
     "text": [
      "./blockade_base_new1/1972232.html\n"
     ]
    },
    {
     "name": "stderr",
     "output_type": "stream",
     "text": [
      " 68%|██████▊   | 23973/35186 [03:41<01:37, 114.61it/s]"
     ]
    },
    {
     "name": "stdout",
     "output_type": "stream",
     "text": [
      "./blockade_base_new1/1563143.html\n"
     ]
    },
    {
     "name": "stderr",
     "output_type": "stream",
     "text": [
      " 69%|██████▊   | 24167/35186 [03:43<01:39, 111.02it/s]"
     ]
    },
    {
     "name": "stdout",
     "output_type": "stream",
     "text": [
      "./blockade_base_new1/1972157.html\n"
     ]
    },
    {
     "name": "stderr",
     "output_type": "stream",
     "text": [
      " 70%|███████   | 24763/35186 [03:48<01:26, 120.65it/s]"
     ]
    },
    {
     "name": "stdout",
     "output_type": "stream",
     "text": [
      "./blockade_base_new1/1972105.html\n"
     ]
    },
    {
     "name": "stderr",
     "output_type": "stream",
     "text": [
      " 80%|███████▉  | 28044/35186 [04:14<00:53, 132.72it/s]"
     ]
    },
    {
     "name": "stdout",
     "output_type": "stream",
     "text": [
      "./blockade_base_new1/1791633.html\n"
     ]
    },
    {
     "name": "stderr",
     "output_type": "stream",
     "text": [
      " 80%|███████▉  | 28102/35186 [04:15<01:06, 106.22it/s]"
     ]
    },
    {
     "name": "stdout",
     "output_type": "stream",
     "text": [
      "./blockade_base_new1/1703543.html\n"
     ]
    },
    {
     "name": "stderr",
     "output_type": "stream",
     "text": [
      " 81%|████████  | 28529/35186 [04:19<01:02, 107.03it/s]"
     ]
    },
    {
     "name": "stdout",
     "output_type": "stream",
     "text": [
      "./blockade_base_new1/1931072.html\n"
     ]
    },
    {
     "name": "stderr",
     "output_type": "stream",
     "text": [
      " 81%|████████▏ | 28615/35186 [04:19<00:51, 126.58it/s]"
     ]
    },
    {
     "name": "stdout",
     "output_type": "stream",
     "text": [
      "./blockade_base_new1/1805653.html\n"
     ]
    },
    {
     "name": "stderr",
     "output_type": "stream",
     "text": [
      " 88%|████████▊ | 30854/35186 [04:37<00:32, 133.19it/s]"
     ]
    },
    {
     "name": "stdout",
     "output_type": "stream",
     "text": [
      "./blockade_base_new1/1972172.html\n"
     ]
    },
    {
     "name": "stderr",
     "output_type": "stream",
     "text": [
      " 89%|████████▉ | 31478/35186 [04:43<00:26, 139.65it/s]"
     ]
    },
    {
     "name": "stdout",
     "output_type": "stream",
     "text": [
      "./blockade_base_new1/1973274.html\n"
     ]
    },
    {
     "name": "stderr",
     "output_type": "stream",
     "text": [
      " 94%|█████████▎| 32984/35186 [04:55<00:17, 126.05it/s]"
     ]
    },
    {
     "name": "stdout",
     "output_type": "stream",
     "text": [
      "./blockade_base_new1/1972176.html\n"
     ]
    },
    {
     "name": "stderr",
     "output_type": "stream",
     "text": [
      "100%|██████████| 35186/35186 [05:13<00:00, 112.06it/s]"
     ]
    },
    {
     "name": "stdout",
     "output_type": "stream",
     "text": [
      "./blockade_base_new1/workspace.xml\n",
      "./blockade_base_new1/blockade_base_new1.iml\n",
      "./blockade_base_new1/modules.xml\n",
      "./blockade_base_new1/misc.xml\n",
      "./blockade_base_new1/R_User_Library.xml\n"
     ]
    },
    {
     "name": "stderr",
     "output_type": "stream",
     "text": [
      "\n"
     ]
    }
   ],
   "source": [
    "dicts = []\n",
    "\n",
    "for x in tqdm(htmls):    \n",
    "    try: # была какая-то странная ошибка с одним из файлов, закостылила\n",
    "        x_info = get_person_info(get_text(x))\n",
    "        x_info[\"id\"] = x.split(\"/\")[-1].strip(\".html\")\n",
    "    except:\n",
    "        print (x) \n",
    "    dicts.append(x_info)    "
   ]
  },
  {
   "cell_type": "markdown",
   "metadata": {},
   "source": [
    "Собираем табличку."
   ]
  },
  {
   "cell_type": "code",
   "execution_count": 10,
   "metadata": {},
   "outputs": [],
   "source": [
    "blockade_table = pd.DataFrame(columns = dicts[0].keys())"
   ]
  },
  {
   "cell_type": "code",
   "execution_count": 11,
   "metadata": {},
   "outputs": [],
   "source": [
    "for n in blockade_table: \n",
    "    blockade_table[n] = [x[n] for x in dicts]"
   ]
  },
  {
   "cell_type": "code",
   "execution_count": 12,
   "metadata": {},
   "outputs": [
    {
     "data": {
      "text/html": [
       "<div>\n",
       "<style scoped>\n",
       "    .dataframe tbody tr th:only-of-type {\n",
       "        vertical-align: middle;\n",
       "    }\n",
       "\n",
       "    .dataframe tbody tr th {\n",
       "        vertical-align: top;\n",
       "    }\n",
       "\n",
       "    .dataframe thead th {\n",
       "        text-align: right;\n",
       "    }\n",
       "</style>\n",
       "<table border=\"1\" class=\"dataframe\">\n",
       "  <thead>\n",
       "    <tr style=\"text-align: right;\">\n",
       "      <th></th>\n",
       "      <th>fio</th>\n",
       "      <th>birth_date</th>\n",
       "      <th>address</th>\n",
       "      <th>death_date</th>\n",
       "      <th>burial_place</th>\n",
       "      <th>source</th>\n",
       "      <th>id</th>\n",
       "    </tr>\n",
       "  </thead>\n",
       "  <tbody>\n",
       "    <tr>\n",
       "      <th>0</th>\n",
       "      <td>Хоникова Юлия Терентьевна</td>\n",
       "      <td>05.12.1930</td>\n",
       "      <td>г. Санкт-Петербург, Калининский р-н</td>\n",
       "      <td>no_info</td>\n",
       "      <td>no_info</td>\n",
       "      <td>Они пережили Блокаду, т. 13</td>\n",
       "      <td>1919776</td>\n",
       "    </tr>\n",
       "    <tr>\n",
       "      <th>1</th>\n",
       "      <td>Иванова Валентина Михайловна</td>\n",
       "      <td>20.01.1921</td>\n",
       "      <td>Кировский р-н</td>\n",
       "      <td>no_info</td>\n",
       "      <td>no_info</td>\n",
       "      <td>Они пережили Блокаду, т. 4</td>\n",
       "      <td>1955406</td>\n",
       "    </tr>\n",
       "    <tr>\n",
       "      <th>2</th>\n",
       "      <td>Козлова Нина Алексеевна</td>\n",
       "      <td>07.01.1926</td>\n",
       "      <td>Выборгский р-н</td>\n",
       "      <td>no_info</td>\n",
       "      <td>no_info</td>\n",
       "      <td>Они пережили Блокаду, т. 5</td>\n",
       "      <td>1672808</td>\n",
       "    </tr>\n",
       "    <tr>\n",
       "      <th>3</th>\n",
       "      <td>Соболева Мария Куприяновна</td>\n",
       "      <td>24.12.1917</td>\n",
       "      <td>г. Санкт-Петербург, Калининский р-н</td>\n",
       "      <td>no_info</td>\n",
       "      <td>no_info</td>\n",
       "      <td>Они пережили Блокаду, т. 11</td>\n",
       "      <td>1812623</td>\n",
       "    </tr>\n",
       "    <tr>\n",
       "      <th>4</th>\n",
       "      <td>Яковлев Борис Георгиевич</td>\n",
       "      <td>03.03.1937</td>\n",
       "      <td>г. Санкт-Петербург, Выборгский р-н</td>\n",
       "      <td>no_info</td>\n",
       "      <td>no_info</td>\n",
       "      <td>Они пережили Блокаду, т. 14</td>\n",
       "      <td>1941354</td>\n",
       "    </tr>\n",
       "    <tr>\n",
       "      <th>5</th>\n",
       "      <td>Полканова Агафья Васильевна</td>\n",
       "      <td>1903</td>\n",
       "      <td>г. Санкт-Петербург, ул. Большая Зеленина, д. 2...</td>\n",
       "      <td>no_info</td>\n",
       "      <td>no_info</td>\n",
       "      <td>Они пережили Блокаду, т. 9</td>\n",
       "      <td>1768943</td>\n",
       "    </tr>\n",
       "    <tr>\n",
       "      <th>6</th>\n",
       "      <td>Попова Роза Ефимовна</td>\n",
       "      <td>24.01.1933</td>\n",
       "      <td>г. Санкт-Петербург, Фрунзенский р-н</td>\n",
       "      <td>no_info</td>\n",
       "      <td>no_info</td>\n",
       "      <td>Они пережили Блокаду, т. 9</td>\n",
       "      <td>1771619</td>\n",
       "    </tr>\n",
       "    <tr>\n",
       "      <th>7</th>\n",
       "      <td>Горобинский Юрий Львович</td>\n",
       "      <td>17.08.1938</td>\n",
       "      <td>Кировский р-н</td>\n",
       "      <td>no_info</td>\n",
       "      <td>no_info</td>\n",
       "      <td>Они пережили Блокаду, т. 3</td>\n",
       "      <td>1563606</td>\n",
       "    </tr>\n",
       "    <tr>\n",
       "      <th>8</th>\n",
       "      <td>Чебуранов Федор Андреевич</td>\n",
       "      <td>10.12.1927</td>\n",
       "      <td>г. Санкт-Петербург, ул. Новосивковская, д. 15,...</td>\n",
       "      <td>no_info</td>\n",
       "      <td>no_info</td>\n",
       "      <td>Они пережили Блокаду, т. 13</td>\n",
       "      <td>1933207</td>\n",
       "    </tr>\n",
       "    <tr>\n",
       "      <th>9</th>\n",
       "      <td>Колдашева Ольга Григорьевна</td>\n",
       "      <td>13.04.1928</td>\n",
       "      <td>Фрунзенский р-н</td>\n",
       "      <td>no_info</td>\n",
       "      <td>no_info</td>\n",
       "      <td>Они пережили Блокаду, т. 5</td>\n",
       "      <td>1673894</td>\n",
       "    </tr>\n",
       "    <tr>\n",
       "      <th>10</th>\n",
       "      <td>Родзиллер Александр Давидович</td>\n",
       "      <td>13.08.1926</td>\n",
       "      <td>г. Санкт-Петербург, Кировский р-н</td>\n",
       "      <td>no_info</td>\n",
       "      <td>no_info</td>\n",
       "      <td>Они пережили Блокаду, т. 10</td>\n",
       "      <td>1781820</td>\n",
       "    </tr>\n",
       "    <tr>\n",
       "      <th>11</th>\n",
       "      <td>Сидоров Николай Александрович</td>\n",
       "      <td>16.03.1923</td>\n",
       "      <td>г. Санкт-Петербург, ст. Разлив, Петровская наб...</td>\n",
       "      <td>no_info</td>\n",
       "      <td>no_info</td>\n",
       "      <td>Они пережили Блокаду, т. 11</td>\n",
       "      <td>1801678</td>\n",
       "    </tr>\n",
       "    <tr>\n",
       "      <th>12</th>\n",
       "      <td>Белова Елена Васильевна</td>\n",
       "      <td>10.08.1935</td>\n",
       "      <td>Красногвардейский р-н</td>\n",
       "      <td>no_info</td>\n",
       "      <td>no_info</td>\n",
       "      <td>Они пережили Блокаду, т. 1</td>\n",
       "      <td>1644123</td>\n",
       "    </tr>\n",
       "    <tr>\n",
       "      <th>13</th>\n",
       "      <td>Васильев Владимир Степанович</td>\n",
       "      <td>17.06.1937</td>\n",
       "      <td>Невский р-н</td>\n",
       "      <td>no_info</td>\n",
       "      <td>no_info</td>\n",
       "      <td>Они пережили Блокаду, т. 2</td>\n",
       "      <td>1622581</td>\n",
       "    </tr>\n",
       "    <tr>\n",
       "      <th>14</th>\n",
       "      <td>Почкаева Гера Александровна</td>\n",
       "      <td>04.06.1930</td>\n",
       "      <td>г. Санкт-Петербург, ул. Лубянская, д. 4, кв. 6</td>\n",
       "      <td>no_info</td>\n",
       "      <td>no_info</td>\n",
       "      <td>Они пережили Блокаду, т. 9</td>\n",
       "      <td>1773106</td>\n",
       "    </tr>\n",
       "    <tr>\n",
       "      <th>15</th>\n",
       "      <td>Федорова Людмила Васильевна</td>\n",
       "      <td>28.12.1938</td>\n",
       "      <td>г. Санкт-Петербург, Калининский р-н</td>\n",
       "      <td>no_info</td>\n",
       "      <td>no_info</td>\n",
       "      <td>Они пережили Блокаду, т. 12</td>\n",
       "      <td>1903880</td>\n",
       "    </tr>\n",
       "    <tr>\n",
       "      <th>16</th>\n",
       "      <td>Севастьянова Людмила Аркадьевна</td>\n",
       "      <td>20.03.1933</td>\n",
       "      <td>г. Санкт-Петербург, Красногвардейский р-н</td>\n",
       "      <td>no_info</td>\n",
       "      <td>no_info</td>\n",
       "      <td>Они пережили Блокаду, т. 10</td>\n",
       "      <td>1795212</td>\n",
       "    </tr>\n",
       "    <tr>\n",
       "      <th>17</th>\n",
       "      <td>Чистяков Анатолий Николаевич</td>\n",
       "      <td>20.10.1937</td>\n",
       "      <td>г. Санкт-Петербург, Василеостровский р-н</td>\n",
       "      <td>no_info</td>\n",
       "      <td>no_info</td>\n",
       "      <td>Они пережили Блокаду, т. 13</td>\n",
       "      <td>1936875</td>\n",
       "    </tr>\n",
       "    <tr>\n",
       "      <th>18</th>\n",
       "      <td>Наумова Елена Алексеевна</td>\n",
       "      <td>26.05.1913</td>\n",
       "      <td>г. Санкт-Петербург, Фрунзенский р-н</td>\n",
       "      <td>no_info</td>\n",
       "      <td>no_info</td>\n",
       "      <td>Они пережили Блокаду, т. 8</td>\n",
       "      <td>1738033</td>\n",
       "    </tr>\n",
       "    <tr>\n",
       "      <th>19</th>\n",
       "      <td>Мельник Вера Васильевна</td>\n",
       "      <td>20.10.1928</td>\n",
       "      <td>г. Санкт-Петербург, Кировский р-н</td>\n",
       "      <td>no_info</td>\n",
       "      <td>no_info</td>\n",
       "      <td>Они пережили Блокаду, т. 7</td>\n",
       "      <td>1721974</td>\n",
       "    </tr>\n",
       "    <tr>\n",
       "      <th>20</th>\n",
       "      <td>Бабакова Галина Яковлевна</td>\n",
       "      <td>12.12.1933</td>\n",
       "      <td>Приморский р-н</td>\n",
       "      <td>no_info</td>\n",
       "      <td>no_info</td>\n",
       "      <td>Они пережили Блокаду, т. 1</td>\n",
       "      <td>1636325</td>\n",
       "    </tr>\n",
       "    <tr>\n",
       "      <th>21</th>\n",
       "      <td>Волков Сергей Дмитриевич</td>\n",
       "      <td>12.01.1937</td>\n",
       "      <td>Центральный р-н</td>\n",
       "      <td>no_info</td>\n",
       "      <td>no_info</td>\n",
       "      <td>Блокада, т. 2</td>\n",
       "      <td>1972511</td>\n",
       "    </tr>\n",
       "    <tr>\n",
       "      <th>22</th>\n",
       "      <td>Антелина Ольга Ивановна</td>\n",
       "      <td>12.07.1918</td>\n",
       "      <td>Приморский р-н</td>\n",
       "      <td>no_info</td>\n",
       "      <td>no_info</td>\n",
       "      <td>Они пережили Блокаду, т. 1</td>\n",
       "      <td>1595288</td>\n",
       "    </tr>\n",
       "    <tr>\n",
       "      <th>23</th>\n",
       "      <td>Яковлева Любовь Даниловна</td>\n",
       "      <td>1920</td>\n",
       "      <td>Ленинградская обл., г. Кингисепп, пр. Карла Ма...</td>\n",
       "      <td>no_info</td>\n",
       "      <td>no_info</td>\n",
       "      <td>Они пережили Блокаду, т. 14</td>\n",
       "      <td>1942451</td>\n",
       "    </tr>\n",
       "    <tr>\n",
       "      <th>24</th>\n",
       "      <td>Симуль Геннадий Августович</td>\n",
       "      <td>19.12.1938</td>\n",
       "      <td>г. Санкт-Петербург, Василеостровский р-н</td>\n",
       "      <td>no_info</td>\n",
       "      <td>no_info</td>\n",
       "      <td>Они пережили Блокаду, т. 11</td>\n",
       "      <td>1803270</td>\n",
       "    </tr>\n",
       "    <tr>\n",
       "      <th>25</th>\n",
       "      <td>Маркина Нина Михайловна</td>\n",
       "      <td>10.07.1935</td>\n",
       "      <td>г. Санкт-Петербург, Московский р-н</td>\n",
       "      <td>no_info</td>\n",
       "      <td>no_info</td>\n",
       "      <td>Они пережили Блокаду, т. 7</td>\n",
       "      <td>1716346</td>\n",
       "    </tr>\n",
       "    <tr>\n",
       "      <th>26</th>\n",
       "      <td>Аксакова-Акинчис Наталья Александровна</td>\n",
       "      <td>03.05.1882</td>\n",
       "      <td>г. Ленинград, Таврическая ул., д. 9, кв. 22</td>\n",
       "      <td>no_info</td>\n",
       "      <td>no_info</td>\n",
       "      <td>Они пережили Блокаду, т. 1</td>\n",
       "      <td>1587194</td>\n",
       "    </tr>\n",
       "    <tr>\n",
       "      <th>27</th>\n",
       "      <td>Борискин Василий Иванович</td>\n",
       "      <td>29.12.1936</td>\n",
       "      <td>Выборгский р-н</td>\n",
       "      <td>no_info</td>\n",
       "      <td>no_info</td>\n",
       "      <td>Они пережили Блокаду, т. 2</td>\n",
       "      <td>1613083</td>\n",
       "    </tr>\n",
       "    <tr>\n",
       "      <th>28</th>\n",
       "      <td>Лемешев Федор Андреевич</td>\n",
       "      <td>03.05.1889</td>\n",
       "      <td>г. Ленинград, ул. Ленина, д. 41, кв. 13</td>\n",
       "      <td>no_info</td>\n",
       "      <td>no_info</td>\n",
       "      <td>Они пережили Блокаду, т. 6</td>\n",
       "      <td>1705817</td>\n",
       "    </tr>\n",
       "    <tr>\n",
       "      <th>29</th>\n",
       "      <td>Миронов Геннадий Петрович</td>\n",
       "      <td>11.02.1937</td>\n",
       "      <td>г. Санкт-Петербург, Калининский р-н</td>\n",
       "      <td>no_info</td>\n",
       "      <td>no_info</td>\n",
       "      <td>Они пережили Блокаду, т. 7</td>\n",
       "      <td>1725147</td>\n",
       "    </tr>\n",
       "    <tr>\n",
       "      <th>...</th>\n",
       "      <td>...</td>\n",
       "      <td>...</td>\n",
       "      <td>...</td>\n",
       "      <td>...</td>\n",
       "      <td>...</td>\n",
       "      <td>...</td>\n",
       "      <td>...</td>\n",
       "    </tr>\n",
       "    <tr>\n",
       "      <th>35156</th>\n",
       "      <td>Дорофеева Ольга Васильевна</td>\n",
       "      <td>06.06.1922</td>\n",
       "      <td>Калининский р-н</td>\n",
       "      <td>no_info</td>\n",
       "      <td>no_info</td>\n",
       "      <td>Они пережили Блокаду, т. 3</td>\n",
       "      <td>1572928</td>\n",
       "    </tr>\n",
       "    <tr>\n",
       "      <th>35157</th>\n",
       "      <td>Соловьева Валентина Николаевна</td>\n",
       "      <td>08.01.1922</td>\n",
       "      <td>г. Санкт-Петербург, Василеостровский р-н</td>\n",
       "      <td>no_info</td>\n",
       "      <td>no_info</td>\n",
       "      <td>Они пережили Блокаду, т. 11</td>\n",
       "      <td>1816014</td>\n",
       "    </tr>\n",
       "    <tr>\n",
       "      <th>35158</th>\n",
       "      <td>Соколовская Евгения Николаевна</td>\n",
       "      <td>16.06.1939</td>\n",
       "      <td>г. Санкт-Петербург, Калининский р-н</td>\n",
       "      <td>no_info</td>\n",
       "      <td>no_info</td>\n",
       "      <td>Они пережили Блокаду, т. 11</td>\n",
       "      <td>1815121</td>\n",
       "    </tr>\n",
       "    <tr>\n",
       "      <th>35159</th>\n",
       "      <td>Смирнова Ольга Сергеевна</td>\n",
       "      <td>01.07.1909</td>\n",
       "      <td>г. Санкт-Петербург, Калининский р-н</td>\n",
       "      <td>no_info</td>\n",
       "      <td>no_info</td>\n",
       "      <td>Они пережили Блокаду, т. 11</td>\n",
       "      <td>1810925</td>\n",
       "    </tr>\n",
       "    <tr>\n",
       "      <th>35160</th>\n",
       "      <td>Иванова Галина Павловна</td>\n",
       "      <td>25.10.1937</td>\n",
       "      <td>Центральный р-н</td>\n",
       "      <td>no_info</td>\n",
       "      <td>no_info</td>\n",
       "      <td>Они пережили Блокаду, т. 4</td>\n",
       "      <td>1955915</td>\n",
       "    </tr>\n",
       "    <tr>\n",
       "      <th>35161</th>\n",
       "      <td>Татарников Олег Георгиевич</td>\n",
       "      <td>20.10.1937</td>\n",
       "      <td>г. Санкт-Петербург, Адмиралтейский р-н</td>\n",
       "      <td>no_info</td>\n",
       "      <td>no_info</td>\n",
       "      <td>Они пережили Блокаду, т. 12</td>\n",
       "      <td>1882480</td>\n",
       "    </tr>\n",
       "    <tr>\n",
       "      <th>35162</th>\n",
       "      <td>Николаева Нина Васильевна</td>\n",
       "      <td>27.02.1939</td>\n",
       "      <td>г. Санкт-Петербург, Невский р-н</td>\n",
       "      <td>no_info</td>\n",
       "      <td>no_info</td>\n",
       "      <td>Они пережили Блокаду, т. 8</td>\n",
       "      <td>1744016</td>\n",
       "    </tr>\n",
       "    <tr>\n",
       "      <th>35163</th>\n",
       "      <td>Никитина Анна Васильевна</td>\n",
       "      <td>31.03.1940</td>\n",
       "      <td>г. Санкт-Петербург, Кировский р-н</td>\n",
       "      <td>no_info</td>\n",
       "      <td>no_info</td>\n",
       "      <td>Они пережили Блокаду, т. 8</td>\n",
       "      <td>1741018</td>\n",
       "    </tr>\n",
       "    <tr>\n",
       "      <th>35164</th>\n",
       "      <td>Ушаков Анатолий Александрович</td>\n",
       "      <td>28.11.1939</td>\n",
       "      <td>г. Санкт-Петербург, Калининский р-н</td>\n",
       "      <td>no_info</td>\n",
       "      <td>no_info</td>\n",
       "      <td>Они пережили Блокаду, т. 12</td>\n",
       "      <td>1900993</td>\n",
       "    </tr>\n",
       "    <tr>\n",
       "      <th>35165</th>\n",
       "      <td>Иванова Татьяна Алексеевна</td>\n",
       "      <td>24.01.1926</td>\n",
       "      <td>Выборгский р-н</td>\n",
       "      <td>no_info</td>\n",
       "      <td>no_info</td>\n",
       "      <td>Они пережили Блокаду, т. 4</td>\n",
       "      <td>1958626</td>\n",
       "    </tr>\n",
       "    <tr>\n",
       "      <th>35166</th>\n",
       "      <td>Протасова Нина Ивановна</td>\n",
       "      <td>25.11.1932</td>\n",
       "      <td>г. Санкт-Петербург, Василеостровский р-н</td>\n",
       "      <td>no_info</td>\n",
       "      <td>no_info</td>\n",
       "      <td>Они пережили Блокаду, т. 10</td>\n",
       "      <td>1775085</td>\n",
       "    </tr>\n",
       "    <tr>\n",
       "      <th>35167</th>\n",
       "      <td>Левитан Светлана Григорьевна</td>\n",
       "      <td>28.02.1937</td>\n",
       "      <td>Московский р-н</td>\n",
       "      <td>no_info</td>\n",
       "      <td>no_info</td>\n",
       "      <td>Они пережили Блокаду, т. 6</td>\n",
       "      <td>1704930</td>\n",
       "    </tr>\n",
       "    <tr>\n",
       "      <th>35168</th>\n",
       "      <td>Иванова Антонина Ивановна</td>\n",
       "      <td>21.02.1913</td>\n",
       "      <td>Калининский р-н</td>\n",
       "      <td>no_info</td>\n",
       "      <td>no_info</td>\n",
       "      <td>Они пережили Блокаду, т. 4</td>\n",
       "      <td>1955105</td>\n",
       "    </tr>\n",
       "    <tr>\n",
       "      <th>35169</th>\n",
       "      <td>Егорова Людмила Тимофеевна</td>\n",
       "      <td>09.08.1934</td>\n",
       "      <td>Приморский р-н</td>\n",
       "      <td>no_info</td>\n",
       "      <td>no_info</td>\n",
       "      <td>Они пережили Блокаду, т. 4</td>\n",
       "      <td>1602036</td>\n",
       "    </tr>\n",
       "    <tr>\n",
       "      <th>35170</th>\n",
       "      <td>Паршин Иван Назарович</td>\n",
       "      <td>25.12.1912</td>\n",
       "      <td>г. Санкт-Петербург, Московский р-н</td>\n",
       "      <td>no_info</td>\n",
       "      <td>no_info</td>\n",
       "      <td>Они пережили Блокаду, т. 9</td>\n",
       "      <td>1757715</td>\n",
       "    </tr>\n",
       "    <tr>\n",
       "      <th>35171</th>\n",
       "      <td>Трофимова Мария Григорьевна</td>\n",
       "      <td>23.06.1904</td>\n",
       "      <td>г. Санкт-Петербург, Кондратьевский пр., д. 40,...</td>\n",
       "      <td>no_info</td>\n",
       "      <td>no_info</td>\n",
       "      <td>Они пережили Блокаду, т. 12</td>\n",
       "      <td>1890723</td>\n",
       "    </tr>\n",
       "    <tr>\n",
       "      <th>35172</th>\n",
       "      <td>Дворецкая Светлана Яковлевна</td>\n",
       "      <td>26.05.1943</td>\n",
       "      <td>Центральный р-н</td>\n",
       "      <td>no_info</td>\n",
       "      <td>no_info</td>\n",
       "      <td>Они пережили Блокаду, т. 3</td>\n",
       "      <td>1566811</td>\n",
       "    </tr>\n",
       "    <tr>\n",
       "      <th>35173</th>\n",
       "      <td>Заборина Галина Викторовна</td>\n",
       "      <td>18.10.1939</td>\n",
       "      <td>Калининский р-н</td>\n",
       "      <td>no_info</td>\n",
       "      <td>no_info</td>\n",
       "      <td>Они пережили Блокаду, т. 4</td>\n",
       "      <td>1961241</td>\n",
       "    </tr>\n",
       "    <tr>\n",
       "      <th>35174</th>\n",
       "      <td>Манюкова Людмила Павловна</td>\n",
       "      <td>05.12.1938</td>\n",
       "      <td>г. Санкт-Петербург, Адмиралтейский р-н</td>\n",
       "      <td>no_info</td>\n",
       "      <td>no_info</td>\n",
       "      <td>Они пережили Блокаду, т. 7</td>\n",
       "      <td>1715757</td>\n",
       "    </tr>\n",
       "    <tr>\n",
       "      <th>35175</th>\n",
       "      <td>Мухин Олег Николаевич</td>\n",
       "      <td>25.08.1932</td>\n",
       "      <td>г. Санкт-Петербург, Красносельский р-н</td>\n",
       "      <td>no_info</td>\n",
       "      <td>no_info</td>\n",
       "      <td>Они пережили Блокаду, т. 8</td>\n",
       "      <td>1735523</td>\n",
       "    </tr>\n",
       "    <tr>\n",
       "      <th>35176</th>\n",
       "      <td>Иванов Станислав Викторович</td>\n",
       "      <td>01.10.1937</td>\n",
       "      <td>Невский р-н</td>\n",
       "      <td>no_info</td>\n",
       "      <td>no_info</td>\n",
       "      <td>Они пережили Блокаду, т. 4</td>\n",
       "      <td>1954335</td>\n",
       "    </tr>\n",
       "    <tr>\n",
       "      <th>35177</th>\n",
       "      <td>Ермакова Анна Васильевна</td>\n",
       "      <td>22.02.1931</td>\n",
       "      <td>Невский р-н</td>\n",
       "      <td>no_info</td>\n",
       "      <td>no_info</td>\n",
       "      <td>Они пережили Блокаду, т. 4</td>\n",
       "      <td>1604620</td>\n",
       "    </tr>\n",
       "    <tr>\n",
       "      <th>35178</th>\n",
       "      <td>Шевченко Вера Никитична</td>\n",
       "      <td>01.06.1924</td>\n",
       "      <td>г. Санкт-Петербург, Курортный р-н</td>\n",
       "      <td>no_info</td>\n",
       "      <td>no_info</td>\n",
       "      <td>Они пережили Блокаду, т. 13</td>\n",
       "      <td>1931860</td>\n",
       "    </tr>\n",
       "    <tr>\n",
       "      <th>35179</th>\n",
       "      <td>Бочарова Пелагея Петровна</td>\n",
       "      <td>12.07.1926</td>\n",
       "      <td>Тульская обл., г. Щекино, Новая ул., д. 12, кв...</td>\n",
       "      <td>no_info</td>\n",
       "      <td>no_info</td>\n",
       "      <td>Они пережили Блокаду, т. 2</td>\n",
       "      <td>1614704</td>\n",
       "    </tr>\n",
       "    <tr>\n",
       "      <th>35180</th>\n",
       "      <td>Богрюшина Татьяна Степановна</td>\n",
       "      <td>: 1930</td>\n",
       "      <td>no_info</td>\n",
       "      <td>no_info</td>\n",
       "      <td>no_info</td>\n",
       "      <td>Они пережили Блокаду, т. 1</td>\n",
       "      <td>1651480</td>\n",
       "    </tr>\n",
       "    <tr>\n",
       "      <th>35181</th>\n",
       "      <td>Богрюшина Татьяна Степановна</td>\n",
       "      <td>: 1930</td>\n",
       "      <td>no_info</td>\n",
       "      <td>no_info</td>\n",
       "      <td>no_info</td>\n",
       "      <td>Они пережили Блокаду, т. 1</td>\n",
       "      <td>1651480</td>\n",
       "    </tr>\n",
       "    <tr>\n",
       "      <th>35182</th>\n",
       "      <td>Богрюшина Татьяна Степановна</td>\n",
       "      <td>: 1930</td>\n",
       "      <td>no_info</td>\n",
       "      <td>no_info</td>\n",
       "      <td>no_info</td>\n",
       "      <td>Они пережили Блокаду, т. 1</td>\n",
       "      <td>1651480</td>\n",
       "    </tr>\n",
       "    <tr>\n",
       "      <th>35183</th>\n",
       "      <td>Богрюшина Татьяна Степановна</td>\n",
       "      <td>: 1930</td>\n",
       "      <td>no_info</td>\n",
       "      <td>no_info</td>\n",
       "      <td>no_info</td>\n",
       "      <td>Они пережили Блокаду, т. 1</td>\n",
       "      <td>1651480</td>\n",
       "    </tr>\n",
       "    <tr>\n",
       "      <th>35184</th>\n",
       "      <td>Богрюшина Татьяна Степановна</td>\n",
       "      <td>: 1930</td>\n",
       "      <td>no_info</td>\n",
       "      <td>no_info</td>\n",
       "      <td>no_info</td>\n",
       "      <td>Они пережили Блокаду, т. 1</td>\n",
       "      <td>1651480</td>\n",
       "    </tr>\n",
       "    <tr>\n",
       "      <th>35185</th>\n",
       "      <td>Богрюшина Татьяна Степановна</td>\n",
       "      <td>: 1930</td>\n",
       "      <td>no_info</td>\n",
       "      <td>no_info</td>\n",
       "      <td>no_info</td>\n",
       "      <td>Они пережили Блокаду, т. 1</td>\n",
       "      <td>1651480</td>\n",
       "    </tr>\n",
       "  </tbody>\n",
       "</table>\n",
       "<p>35186 rows × 7 columns</p>\n",
       "</div>"
      ],
      "text/plain": [
       "                                          fio  birth_date  \\\n",
       "0                   Хоникова Юлия Терентьевна  05.12.1930   \n",
       "1                Иванова Валентина Михайловна  20.01.1921   \n",
       "2                     Козлова Нина Алексеевна  07.01.1926   \n",
       "3                  Соболева Мария Куприяновна  24.12.1917   \n",
       "4                    Яковлев Борис Георгиевич  03.03.1937   \n",
       "5                 Полканова Агафья Васильевна        1903   \n",
       "6                        Попова Роза Ефимовна  24.01.1933   \n",
       "7                    Горобинский Юрий Львович  17.08.1938   \n",
       "8                   Чебуранов Федор Андреевич  10.12.1927   \n",
       "9                 Колдашева Ольга Григорьевна  13.04.1928   \n",
       "10              Родзиллер Александр Давидович  13.08.1926   \n",
       "11              Сидоров Николай Александрович  16.03.1923   \n",
       "12                    Белова Елена Васильевна  10.08.1935   \n",
       "13               Васильев Владимир Степанович  17.06.1937   \n",
       "14                Почкаева Гера Александровна  04.06.1930   \n",
       "15                Федорова Людмила Васильевна  28.12.1938   \n",
       "16            Севастьянова Людмила Аркадьевна  20.03.1933   \n",
       "17               Чистяков Анатолий Николаевич  20.10.1937   \n",
       "18                   Наумова Елена Алексеевна  26.05.1913   \n",
       "19                    Мельник Вера Васильевна  20.10.1928   \n",
       "20                  Бабакова Галина Яковлевна  12.12.1933   \n",
       "21                   Волков Сергей Дмитриевич  12.01.1937   \n",
       "22                    Антелина Ольга Ивановна  12.07.1918   \n",
       "23                  Яковлева Любовь Даниловна        1920   \n",
       "24                 Симуль Геннадий Августович  19.12.1938   \n",
       "25                    Маркина Нина Михайловна  10.07.1935   \n",
       "26     Аксакова-Акинчис Наталья Александровна  03.05.1882   \n",
       "27                  Борискин Василий Иванович  29.12.1936   \n",
       "28                    Лемешев Федор Андреевич  03.05.1889   \n",
       "29                  Миронов Геннадий Петрович  11.02.1937   \n",
       "...                                       ...         ...   \n",
       "35156              Дорофеева Ольга Васильевна  06.06.1922   \n",
       "35157          Соловьева Валентина Николаевна  08.01.1922   \n",
       "35158          Соколовская Евгения Николаевна  16.06.1939   \n",
       "35159                Смирнова Ольга Сергеевна  01.07.1909   \n",
       "35160                 Иванова Галина Павловна  25.10.1937   \n",
       "35161              Татарников Олег Георгиевич  20.10.1937   \n",
       "35162               Николаева Нина Васильевна  27.02.1939   \n",
       "35163                Никитина Анна Васильевна  31.03.1940   \n",
       "35164           Ушаков Анатолий Александрович  28.11.1939   \n",
       "35165              Иванова Татьяна Алексеевна  24.01.1926   \n",
       "35166                 Протасова Нина Ивановна  25.11.1932   \n",
       "35167            Левитан Светлана Григорьевна  28.02.1937   \n",
       "35168               Иванова Антонина Ивановна  21.02.1913   \n",
       "35169              Егорова Людмила Тимофеевна  09.08.1934   \n",
       "35170                   Паршин Иван Назарович  25.12.1912   \n",
       "35171             Трофимова Мария Григорьевна  23.06.1904   \n",
       "35172            Дворецкая Светлана Яковлевна  26.05.1943   \n",
       "35173              Заборина Галина Викторовна  18.10.1939   \n",
       "35174               Манюкова Людмила Павловна  05.12.1938   \n",
       "35175                   Мухин Олег Николаевич  25.08.1932   \n",
       "35176             Иванов Станислав Викторович  01.10.1937   \n",
       "35177                Ермакова Анна Васильевна  22.02.1931   \n",
       "35178                 Шевченко Вера Никитична  01.06.1924   \n",
       "35179               Бочарова Пелагея Петровна  12.07.1926   \n",
       "35180            Богрюшина Татьяна Степановна      : 1930   \n",
       "35181            Богрюшина Татьяна Степановна      : 1930   \n",
       "35182            Богрюшина Татьяна Степановна      : 1930   \n",
       "35183            Богрюшина Татьяна Степановна      : 1930   \n",
       "35184            Богрюшина Татьяна Степановна      : 1930   \n",
       "35185            Богрюшина Татьяна Степановна      : 1930   \n",
       "\n",
       "                                                 address death_date  \\\n",
       "0                    г. Санкт-Петербург, Калининский р-н    no_info   \n",
       "1                                          Кировский р-н    no_info   \n",
       "2                                         Выборгский р-н    no_info   \n",
       "3                    г. Санкт-Петербург, Калининский р-н    no_info   \n",
       "4                     г. Санкт-Петербург, Выборгский р-н    no_info   \n",
       "5      г. Санкт-Петербург, ул. Большая Зеленина, д. 2...    no_info   \n",
       "6                    г. Санкт-Петербург, Фрунзенский р-н    no_info   \n",
       "7                                          Кировский р-н    no_info   \n",
       "8      г. Санкт-Петербург, ул. Новосивковская, д. 15,...    no_info   \n",
       "9                                        Фрунзенский р-н    no_info   \n",
       "10                     г. Санкт-Петербург, Кировский р-н    no_info   \n",
       "11     г. Санкт-Петербург, ст. Разлив, Петровская наб...    no_info   \n",
       "12                                 Красногвардейский р-н    no_info   \n",
       "13                                           Невский р-н    no_info   \n",
       "14        г. Санкт-Петербург, ул. Лубянская, д. 4, кв. 6    no_info   \n",
       "15                   г. Санкт-Петербург, Калининский р-н    no_info   \n",
       "16             г. Санкт-Петербург, Красногвардейский р-н    no_info   \n",
       "17              г. Санкт-Петербург, Василеостровский р-н    no_info   \n",
       "18                   г. Санкт-Петербург, Фрунзенский р-н    no_info   \n",
       "19                     г. Санкт-Петербург, Кировский р-н    no_info   \n",
       "20                                        Приморский р-н    no_info   \n",
       "21                                       Центральный р-н    no_info   \n",
       "22                                        Приморский р-н    no_info   \n",
       "23     Ленинградская обл., г. Кингисепп, пр. Карла Ма...    no_info   \n",
       "24              г. Санкт-Петербург, Василеостровский р-н    no_info   \n",
       "25                    г. Санкт-Петербург, Московский р-н    no_info   \n",
       "26           г. Ленинград, Таврическая ул., д. 9, кв. 22    no_info   \n",
       "27                                        Выборгский р-н    no_info   \n",
       "28               г. Ленинград, ул. Ленина, д. 41, кв. 13    no_info   \n",
       "29                   г. Санкт-Петербург, Калининский р-н    no_info   \n",
       "...                                                  ...        ...   \n",
       "35156                                    Калининский р-н    no_info   \n",
       "35157           г. Санкт-Петербург, Василеостровский р-н    no_info   \n",
       "35158                г. Санкт-Петербург, Калининский р-н    no_info   \n",
       "35159                г. Санкт-Петербург, Калининский р-н    no_info   \n",
       "35160                                    Центральный р-н    no_info   \n",
       "35161             г. Санкт-Петербург, Адмиралтейский р-н    no_info   \n",
       "35162                    г. Санкт-Петербург, Невский р-н    no_info   \n",
       "35163                  г. Санкт-Петербург, Кировский р-н    no_info   \n",
       "35164                г. Санкт-Петербург, Калининский р-н    no_info   \n",
       "35165                                     Выборгский р-н    no_info   \n",
       "35166           г. Санкт-Петербург, Василеостровский р-н    no_info   \n",
       "35167                                     Московский р-н    no_info   \n",
       "35168                                    Калининский р-н    no_info   \n",
       "35169                                     Приморский р-н    no_info   \n",
       "35170                 г. Санкт-Петербург, Московский р-н    no_info   \n",
       "35171  г. Санкт-Петербург, Кондратьевский пр., д. 40,...    no_info   \n",
       "35172                                    Центральный р-н    no_info   \n",
       "35173                                    Калининский р-н    no_info   \n",
       "35174             г. Санкт-Петербург, Адмиралтейский р-н    no_info   \n",
       "35175             г. Санкт-Петербург, Красносельский р-н    no_info   \n",
       "35176                                        Невский р-н    no_info   \n",
       "35177                                        Невский р-н    no_info   \n",
       "35178                  г. Санкт-Петербург, Курортный р-н    no_info   \n",
       "35179  Тульская обл., г. Щекино, Новая ул., д. 12, кв...    no_info   \n",
       "35180                                            no_info    no_info   \n",
       "35181                                            no_info    no_info   \n",
       "35182                                            no_info    no_info   \n",
       "35183                                            no_info    no_info   \n",
       "35184                                            no_info    no_info   \n",
       "35185                                            no_info    no_info   \n",
       "\n",
       "      burial_place                       source       id  \n",
       "0          no_info  Они пережили Блокаду, т. 13  1919776  \n",
       "1          no_info   Они пережили Блокаду, т. 4  1955406  \n",
       "2          no_info   Они пережили Блокаду, т. 5  1672808  \n",
       "3          no_info  Они пережили Блокаду, т. 11  1812623  \n",
       "4          no_info  Они пережили Блокаду, т. 14  1941354  \n",
       "5          no_info   Они пережили Блокаду, т. 9  1768943  \n",
       "6          no_info   Они пережили Блокаду, т. 9  1771619  \n",
       "7          no_info   Они пережили Блокаду, т. 3  1563606  \n",
       "8          no_info  Они пережили Блокаду, т. 13  1933207  \n",
       "9          no_info   Они пережили Блокаду, т. 5  1673894  \n",
       "10         no_info  Они пережили Блокаду, т. 10  1781820  \n",
       "11         no_info  Они пережили Блокаду, т. 11  1801678  \n",
       "12         no_info   Они пережили Блокаду, т. 1  1644123  \n",
       "13         no_info   Они пережили Блокаду, т. 2  1622581  \n",
       "14         no_info   Они пережили Блокаду, т. 9  1773106  \n",
       "15         no_info  Они пережили Блокаду, т. 12  1903880  \n",
       "16         no_info  Они пережили Блокаду, т. 10  1795212  \n",
       "17         no_info  Они пережили Блокаду, т. 13  1936875  \n",
       "18         no_info   Они пережили Блокаду, т. 8  1738033  \n",
       "19         no_info   Они пережили Блокаду, т. 7  1721974  \n",
       "20         no_info   Они пережили Блокаду, т. 1  1636325  \n",
       "21         no_info                Блокада, т. 2  1972511  \n",
       "22         no_info   Они пережили Блокаду, т. 1  1595288  \n",
       "23         no_info  Они пережили Блокаду, т. 14  1942451  \n",
       "24         no_info  Они пережили Блокаду, т. 11  1803270  \n",
       "25         no_info   Они пережили Блокаду, т. 7  1716346  \n",
       "26         no_info   Они пережили Блокаду, т. 1  1587194  \n",
       "27         no_info   Они пережили Блокаду, т. 2  1613083  \n",
       "28         no_info   Они пережили Блокаду, т. 6  1705817  \n",
       "29         no_info   Они пережили Блокаду, т. 7  1725147  \n",
       "...            ...                          ...      ...  \n",
       "35156      no_info   Они пережили Блокаду, т. 3  1572928  \n",
       "35157      no_info  Они пережили Блокаду, т. 11  1816014  \n",
       "35158      no_info  Они пережили Блокаду, т. 11  1815121  \n",
       "35159      no_info  Они пережили Блокаду, т. 11  1810925  \n",
       "35160      no_info   Они пережили Блокаду, т. 4  1955915  \n",
       "35161      no_info  Они пережили Блокаду, т. 12  1882480  \n",
       "35162      no_info   Они пережили Блокаду, т. 8  1744016  \n",
       "35163      no_info   Они пережили Блокаду, т. 8  1741018  \n",
       "35164      no_info  Они пережили Блокаду, т. 12  1900993  \n",
       "35165      no_info   Они пережили Блокаду, т. 4  1958626  \n",
       "35166      no_info  Они пережили Блокаду, т. 10  1775085  \n",
       "35167      no_info   Они пережили Блокаду, т. 6  1704930  \n",
       "35168      no_info   Они пережили Блокаду, т. 4  1955105  \n",
       "35169      no_info   Они пережили Блокаду, т. 4  1602036  \n",
       "35170      no_info   Они пережили Блокаду, т. 9  1757715  \n",
       "35171      no_info  Они пережили Блокаду, т. 12  1890723  \n",
       "35172      no_info   Они пережили Блокаду, т. 3  1566811  \n",
       "35173      no_info   Они пережили Блокаду, т. 4  1961241  \n",
       "35174      no_info   Они пережили Блокаду, т. 7  1715757  \n",
       "35175      no_info   Они пережили Блокаду, т. 8  1735523  \n",
       "35176      no_info   Они пережили Блокаду, т. 4  1954335  \n",
       "35177      no_info   Они пережили Блокаду, т. 4  1604620  \n",
       "35178      no_info  Они пережили Блокаду, т. 13  1931860  \n",
       "35179      no_info   Они пережили Блокаду, т. 2  1614704  \n",
       "35180      no_info   Они пережили Блокаду, т. 1  1651480  \n",
       "35181      no_info   Они пережили Блокаду, т. 1  1651480  \n",
       "35182      no_info   Они пережили Блокаду, т. 1  1651480  \n",
       "35183      no_info   Они пережили Блокаду, т. 1  1651480  \n",
       "35184      no_info   Они пережили Блокаду, т. 1  1651480  \n",
       "35185      no_info   Они пережили Блокаду, т. 1  1651480  \n",
       "\n",
       "[35186 rows x 7 columns]"
      ]
     },
     "execution_count": 12,
     "metadata": {},
     "output_type": "execute_result"
    }
   ],
   "source": [
    "blockade_table"
   ]
  },
  {
   "cell_type": "code",
   "execution_count": 10,
   "metadata": {},
   "outputs": [],
   "source": [
    "# выгружаем в файлик\n",
    "blockade_table.to_csv(\"blockade_example.csv\", sep = \"\\t\")"
   ]
  },
  {
   "cell_type": "code",
   "execution_count": null,
   "metadata": {},
   "outputs": [],
   "source": []
  }
 ],
 "metadata": {
  "kernelspec": {
   "display_name": "Python 3",
   "language": "python",
   "name": "python3"
  },
  "language_info": {
   "codemirror_mode": {
    "name": "ipython",
    "version": 3
   },
   "file_extension": ".py",
   "mimetype": "text/x-python",
   "name": "python",
   "nbconvert_exporter": "python",
   "pygments_lexer": "ipython3",
   "version": "3.7.3"
  }
 },
 "nbformat": 4,
 "nbformat_minor": 2
}
