{
 "cells": [
  {
   "cell_type": "code",
   "execution_count": 1,
   "metadata": {
    "ExecuteTime": {
     "end_time": "2021-03-09T15:02:46.414916Z",
     "start_time": "2021-03-09T15:02:45.560969Z"
    }
   },
   "outputs": [],
   "source": [
    "import bs4\n",
    "import pandas as pd\n",
    "import lxml\n",
    "from icecream import ic\n",
    "import string\n",
    "import requests\n",
    "import json\n",
    "import os\n",
    "from tqdm import tqdm\n",
    "import pickle"
   ]
  },
  {
   "cell_type": "code",
   "execution_count": 6,
   "metadata": {
    "ExecuteTime": {
     "end_time": "2021-03-08T22:57:26.295147Z",
     "start_time": "2021-03-08T22:57:26.278550Z"
    }
   },
   "outputs": [],
   "source": [
    "df = pd.DataFrame(columns = ['ID', 'ФИО', 'Дата рождения', 'Дата смерти', 'Сан','Память', 'Биография', \n",
    "                             'Публикации', 'Архивные источники', 'Заявители'])"
   ]
  },
  {
   "cell_type": "code",
   "execution_count": 7,
   "metadata": {
    "ExecuteTime": {
     "end_time": "2021-03-08T22:57:27.562039Z",
     "start_time": "2021-03-08T22:57:27.552242Z"
    }
   },
   "outputs": [
    {
     "data": {
      "text/html": [
       "<div>\n",
       "<style scoped>\n",
       "    .dataframe tbody tr th:only-of-type {\n",
       "        vertical-align: middle;\n",
       "    }\n",
       "\n",
       "    .dataframe tbody tr th {\n",
       "        vertical-align: top;\n",
       "    }\n",
       "\n",
       "    .dataframe thead th {\n",
       "        text-align: right;\n",
       "    }\n",
       "</style>\n",
       "<table border=\"1\" class=\"dataframe\">\n",
       "  <thead>\n",
       "    <tr style=\"text-align: right;\">\n",
       "      <th></th>\n",
       "      <th>ID</th>\n",
       "      <th>ФИО</th>\n",
       "      <th>Дата рождения</th>\n",
       "      <th>Дата смерти</th>\n",
       "      <th>Сан</th>\n",
       "      <th>Память</th>\n",
       "      <th>Биография</th>\n",
       "      <th>Публикации</th>\n",
       "      <th>Архивные источники</th>\n",
       "      <th>Заявители</th>\n",
       "    </tr>\n",
       "  </thead>\n",
       "  <tbody>\n",
       "  </tbody>\n",
       "</table>\n",
       "</div>"
      ],
      "text/plain": [
       "Empty DataFrame\n",
       "Columns: [ID, ФИО, Дата рождения, Дата смерти, Сан, Память, Биография, Публикации, Архивные источники, Заявители]\n",
       "Index: []"
      ]
     },
     "execution_count": 7,
     "metadata": {},
     "output_type": "execute_result"
    }
   ],
   "source": [
    "df"
   ]
  },
  {
   "cell_type": "code",
   "execution_count": 2,
   "metadata": {
    "ExecuteTime": {
     "end_time": "2021-03-03T15:52:33.001113Z",
     "start_time": "2021-03-03T14:12:44.030786Z"
    }
   },
   "outputs": [
    {
     "name": "stderr",
     "output_type": "stream",
     "text": [
      "100%|████████████████████████████████████████████████████████████████████████████| 5437/5437 [1:39:48<00:00,  1.10s/it]\n"
     ]
    }
   ],
   "source": [
    "for i in tqdm(range(106562, 112822)):\n",
    "    url = f\"https://pstgu.ru/baza-dannykh-za-khrista-postradavshie/ebs-za-khrista-postradavshie/a/{i}/\"\n",
    "    response = requests.get(url)\n",
    "    if response.status_code == 200:\n",
    "        with open(f'pstgu_base{i}.html', 'w', encoding='utf-8') as f:\n",
    "            f.write(response.text)"
   ]
  },
  {
   "cell_type": "code",
   "execution_count": 50,
   "metadata": {
    "ExecuteTime": {
     "end_time": "2021-03-10T11:52:22.079637Z",
     "start_time": "2021-03-10T11:40:05.933130Z"
    }
   },
   "outputs": [
    {
     "name": "stderr",
     "output_type": "stream",
     "text": [
      "6260it [12:16,  8.50it/s]\n"
     ]
    }
   ],
   "source": [
    "path = 'pages'\n",
    "pstgu_base = []\n",
    "info = {}\n",
    "for i, file in tqdm(zip(range(106562, 112822), os.listdir(path=path))):\n",
    "    with open(f'{path}/{file}', encoding='utf-8') as f:\n",
    "        html = f.read()\n",
    "    soup = bs4.BeautifulSoup(html, 'html.parser')\n",
    "    fio = soup.find('h2', class_='inner-page__title').text\n",
    "    for tag in soup.find_all('span'):\n",
    "        if 'Дата рождения' in tag.text:\n",
    "            birth_date = tag.text.split('Дата рождения')[1].strip()\n",
    "        if 'Дата смерти' in tag.text:\n",
    "            death_date = tag.text.split('Дата смерти')[1].strip()\n",
    "        if 'Память' in tag.text:\n",
    "            memory = tag.text.split('Память')[1].strip()\n",
    "        if 'Сан' in tag.text:\n",
    "            san = tag.text.split('Сан')[1]\n",
    "    for tag_ in soup.find_all('div', class_=\"accordion__item\"):\n",
    "        if 'Биография' in tag_.contents[1].text:\n",
    "            biography = re.sub('\\s+', ' ', tag_.contents[3].text).strip()\n",
    "        if 'Публикации' in tag_.contents[1].text:\n",
    "            publications = re.sub('\\s+', ' ', tag_.contents[3].text).strip()\n",
    "        if 'Архивные источники' in tag_.contents[1].text:\n",
    "            archive = re.sub('\\s+', ' ', tag_.contents[3].text).strip()\n",
    "        if 'Заявители' in tag_.contents[1].text:\n",
    "            applicants = re.sub('\\s+', ' ', tag_.contents[3].text).strip()\n",
    "    info = {'ID': i, 'ФИО': fio, 'Дата рождения': birth_date, 'Дата смерти': death_date, 'Память': memory, 'Сан': san, \n",
    "                 'Биография': biography, 'Публикации': publications, 'Архивные источники': archive, 'Заявители': applicants}\n",
    "    pstgu_base.append(info)"
   ]
  },
  {
   "cell_type": "code",
   "execution_count": 54,
   "metadata": {
    "ExecuteTime": {
     "end_time": "2021-03-10T12:12:36.054560Z",
     "start_time": "2021-03-10T12:12:36.032565Z"
    }
   },
   "outputs": [],
   "source": [
    "for dict_ in pstgu_base:\n",
    "    dict_['Сан'] = dict_['Сан'].strip(', ')"
   ]
  },
  {
   "cell_type": "code",
   "execution_count": 56,
   "metadata": {
    "ExecuteTime": {
     "end_time": "2021-03-10T12:14:19.268920Z",
     "start_time": "2021-03-10T12:14:18.993205Z"
    }
   },
   "outputs": [],
   "source": [
    "import json\n",
    "with open('pstgu_base.json', 'w', encoding='utf-8') as f:\n",
    "    json.dump(pstgu_base, f, ensure_ascii=False, indent=4)"
   ]
  },
  {
   "cell_type": "code",
   "execution_count": null,
   "metadata": {
    "ExecuteTime": {
     "end_time": "2021-03-10T12:12:42.371352Z",
     "start_time": "2021-03-10T12:12:42.062356Z"
    },
    "scrolled": true
   },
   "outputs": [],
   "source": [
    "pstgu_base"
   ]
  },
  {
   "cell_type": "code",
   "execution_count": 10,
   "metadata": {
    "ExecuteTime": {
     "end_time": "2021-03-04T00:16:51.054138Z",
     "start_time": "2021-03-04T00:16:51.013136Z"
    }
   },
   "outputs": [
    {
     "data": {
      "text/plain": [
       "{'Дата рождения', 'Дата смерти', 'Память', 'Сан'}"
      ]
     },
     "execution_count": 10,
     "metadata": {},
     "output_type": "execute_result"
    }
   ],
   "source": [
    "unique_card_tags"
   ]
  }
 ],
 "metadata": {
  "kernelspec": {
   "display_name": "Python 3",
   "language": "python",
   "name": "python3"
  },
  "language_info": {
   "codemirror_mode": {
    "name": "ipython",
    "version": 3
   },
   "file_extension": ".py",
   "mimetype": "text/x-python",
   "name": "python",
   "nbconvert_exporter": "python",
   "pygments_lexer": "ipython3",
   "version": "3.7.9"
  },
  "toc": {
   "base_numbering": 1,
   "nav_menu": {},
   "number_sections": true,
   "sideBar": true,
   "skip_h1_title": false,
   "title_cell": "Table of Contents",
   "title_sidebar": "Contents",
   "toc_cell": false,
   "toc_position": {},
   "toc_section_display": true,
   "toc_window_display": false
  }
 },
 "nbformat": 4,
 "nbformat_minor": 4
}
